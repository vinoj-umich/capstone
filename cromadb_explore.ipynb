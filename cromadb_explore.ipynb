{
 "cells": [
  {
   "cell_type": "code",
   "execution_count": 16,
   "metadata": {},
   "outputs": [
    {
     "name": "stderr",
     "output_type": "stream",
     "text": [
      "/opt/conda/envs/myenv/lib/python3.10/site-packages/huggingface_hub/file_download.py:1142: FutureWarning: `resume_download` is deprecated and will be removed in version 1.0.0. Downloads always resume when possible. If you want to force a new download, use `force_download=True`.\n",
      "  warnings.warn(\n"
     ]
    }
   ],
   "source": [
    "import torch\n",
    "from transformers import DistilBertTokenizer, DistilBertModel\n",
    "import chromadb\n",
    "\n",
    "# Load the tokenizer and model\n",
    "tokenizer = DistilBertTokenizer.from_pretrained(\"distilbert-base-uncased\")\n",
    "model = DistilBertModel.from_pretrained(\"distilbert-base-uncased\").to('cuda')  # Move model to GPU\n",
    "\n",
    "# Example texts\n",
    "texts = [\"What are the signs that your car needs an oil change?\",\n",
    "         \"How often should you check and replace your air filter?\"]\n",
    "\n",
    "# Generate embeddings\n",
    "def generate_embeddings(texts):\n",
    "    inputs = tokenizer(texts, return_tensors='pt', padding=True, truncation=True).to('cuda')  # Move input to GPU\n",
    "    with torch.no_grad():\n",
    "        outputs = model(**inputs)\n",
    "    return outputs.last_hidden_state[:, 0, :].cpu().numpy()  # Get the embeddings and move to CPU\n",
    "\n",
    "embeddings = generate_embeddings(texts)"
   ]
  },
  {
   "cell_type": "code",
   "execution_count": 17,
   "metadata": {},
   "outputs": [
    {
     "name": "stderr",
     "output_type": "stream",
     "text": [
      "Insert of existing embedding ID: 0\n",
      "Insert of existing embedding ID: 1\n",
      "Add of existing embedding ID: 0\n",
      "Add of existing embedding ID: 1\n"
     ]
    },
    {
     "name": "stdout",
     "output_type": "stream",
     "text": [
      "['0', '1']\n",
      "Embeddings stored in ChromaDB.\n"
     ]
    }
   ],
   "source": [
    "# Initialize ChromaDB\n",
    "client = chromadb.Client()\n",
    "\n",
    "# Create a collection\n",
    "collection = client.get_or_create_collection(\"car_maintenance\")\n",
    "\n",
    "# Generate unique IDs for each document\n",
    "ids = [str(i) for i in range(len(texts))]  # Simple numeric IDs\n",
    "print(ids)\n",
    "\n",
    "# Add the embeddings to the collection\n",
    "collection.add(\n",
    "    documents=texts,\n",
    "    embeddings=embeddings.tolist(),  # Convert to list for storage\n",
    "    ids=ids  # Include the unique IDs\n",
    ")\n",
    "\n",
    "print(\"Embeddings stored in ChromaDB.\")\n"
   ]
  },
  {
   "cell_type": "code",
   "execution_count": 18,
   "metadata": {},
   "outputs": [
    {
     "name": "stdout",
     "output_type": "stream",
     "text": [
      "{'ids': [['0']], 'embeddings': None, 'documents': [['What are the signs that your car needs an oil change?']], 'uris': None, 'data': None, 'metadatas': [[None]], 'distances': [[6.679023742675781]], 'included': [<IncludeEnum.distances: 'distances'>, <IncludeEnum.documents: 'documents'>, <IncludeEnum.metadatas: 'metadatas'>]}\n"
     ]
    }
   ],
   "source": [
    "query =\"Does my car needs oil change?\"\n",
    "query_embeddings = generate_embeddings(query)\n",
    "query_result = collection.query(query_embeddings, n_results=1,)\n",
    "print(query_result)"
   ]
  }
 ],
 "metadata": {
  "kernelspec": {
   "display_name": "myenv",
   "language": "python",
   "name": "python3"
  },
  "language_info": {
   "codemirror_mode": {
    "name": "ipython",
    "version": 3
   },
   "file_extension": ".py",
   "mimetype": "text/x-python",
   "name": "python",
   "nbconvert_exporter": "python",
   "pygments_lexer": "ipython3",
   "version": "3.10.15"
  }
 },
 "nbformat": 4,
 "nbformat_minor": 2
}
